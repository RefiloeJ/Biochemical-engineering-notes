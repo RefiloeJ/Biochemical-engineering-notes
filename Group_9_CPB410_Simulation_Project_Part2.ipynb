{
  "cells": [
    {
      "cell_type": "markdown",
      "metadata": {
        "id": "view-in-github",
        "colab_type": "text"
      },
      "source": [
        "<a href=\"https://colab.research.google.com/github/RefiloeJ/Biochemical-engineering-notes/blob/master/Group_9_CPB410_Simulation_Project_Part2.ipynb\" target=\"_parent\"><img src=\"https://colab.research.google.com/assets/colab-badge.svg\" alt=\"Open In Colab\"/></a>"
      ]
    },
    {
      "cell_type": "code",
      "execution_count": 1,
      "id": "92bbfcd8",
      "metadata": {
        "id": "92bbfcd8"
      },
      "outputs": [],
      "source": [
        "import numpy as np\n",
        "import matplotlib.pyplot as plt \n",
        "%matplotlib inline \n",
        "from scipy.optimize import fsolve\n",
        "from scipy.optimize import curve_fit\n",
        "import sympy as sy"
      ]
    },
    {
      "cell_type": "markdown",
      "id": "fb1ad092",
      "metadata": {
        "id": "fb1ad092"
      },
      "source": [
        "# Blending Process Response"
      ]
    },
    {
      "cell_type": "markdown",
      "id": "1285c670",
      "metadata": {
        "id": "1285c670"
      },
      "source": [
        "The liquid storage system shown has two inlet streams ($w_{1}$ and $w_{2}$) and an outlet stream ($w_{3}$). The tank is $\\textbf{2.5 m high and 2 m}$ in diameter. The liquid density is $\\textbf{800 kg/m3}$. You may assume that the density is constant. The nominal operating conditions are as follows:"
      ]
    },
    {
      "cell_type": "markdown",
      "id": "9e706382",
      "metadata": {
        "id": "9e706382"
      },
      "source": [
        "$$ \\bar{w_{1}} = 120 \\ \\mathrm{kg/min} $$"
      ]
    },
    {
      "cell_type": "markdown",
      "id": "b2838cfe",
      "metadata": {
        "id": "b2838cfe"
      },
      "source": [
        "$$ \\bar{w_{2}} = 100 \\ \\mathrm{kg/min} $$"
      ]
    },
    {
      "cell_type": "markdown",
      "id": "d7e82d89",
      "metadata": {
        "id": "d7e82d89"
      },
      "source": [
        "The equations governing the dynamic behaviour of the system are as follows:"
      ]
    },
    {
      "cell_type": "markdown",
      "id": "9ca07bed",
      "metadata": {
        "id": "9ca07bed"
      },
      "source": [
        "$$ \\rho A \\frac{dh}{dt} = w_{1} + w_{2} -w_{3}$$ "
      ]
    },
    {
      "cell_type": "markdown",
      "id": "d1385c86",
      "metadata": {
        "id": "d1385c86"
      },
      "source": [
        "$$ w_{3} = C_{v}\\sqrt{h} $$"
      ]
    },
    {
      "cell_type": "markdown",
      "id": "45dcfac9",
      "metadata": {
        "id": "45dcfac9"
      },
      "source": [
        "In addition it is known that there is leak located 1 m from the base of the tank. The volumetric flow rate of the leak is expected to be modelled with reasonable accuracy by the following equation:"
      ]
    },
    {
      "cell_type": "markdown",
      "id": "558e17ce",
      "metadata": {
        "id": "558e17ce"
      },
      "source": [
        "$$ q = 0.025\\sqrt{h-1} $$"
      ]
    },
    {
      "cell_type": "markdown",
      "id": "0c9d4526",
      "metadata": {
        "id": "0c9d4526"
      },
      "source": [
        "# Parameters "
      ]
    },
    {
      "cell_type": "code",
      "execution_count": null,
      "id": "3dbfc6bb",
      "metadata": {
        "id": "3dbfc6bb"
      },
      "outputs": [],
      "source": [
        "rho = 800        #kg/m3\n",
        "D = 2            #m\n",
        "H = 2.5          #m\n",
        "A = (np.pi/4)*(D**2)   #m^2\n",
        "Cv = 200"
      ]
    },
    {
      "cell_type": "markdown",
      "id": "d5aa4d96",
      "metadata": {
        "id": "d5aa4d96"
      },
      "source": [
        "# Inputs defined with nominal values"
      ]
    },
    {
      "cell_type": "markdown",
      "id": "dfc6ec58",
      "metadata": {
        "id": "dfc6ec58"
      },
      "source": [
        "To generalise the system ,the 2 possible inputs w1 and w2 will be refered to as u1 and u2.\n",
        "The controlled variable ,height, will be refered to as y for this same reason"
      ]
    },
    {
      "cell_type": "code",
      "execution_count": null,
      "id": "4d589908",
      "metadata": {
        "id": "4d589908"
      },
      "outputs": [],
      "source": [
        "def MV_u1(t):         # w1 - kg/min\n",
        "    \n",
        "    if t < 0:\n",
        "        \n",
        "        return 120   \n",
        "    \n",
        "    if t >= 0:\n",
        "        \n",
        "        return 120\n",
        "    \n",
        "def MV_u2(t):         # w2 - kg/min\n",
        "    \n",
        "    if t < 0:\n",
        "        \n",
        "        return 100\n",
        "    \n",
        "    if t >= 0:\n",
        "        \n",
        "        return 100"
      ]
    },
    {
      "cell_type": "markdown",
      "id": "71344d39",
      "metadata": {
        "id": "71344d39"
      },
      "source": [
        "# Defining a function with the system equations. "
      ]
    },
    {
      "cell_type": "markdown",
      "id": "40552c0c",
      "metadata": {
        "id": "40552c0c"
      },
      "source": [
        "It will be used to find the open-loop process response"
      ]
    },
    {
      "cell_type": "code",
      "execution_count": null,
      "id": "6773695a",
      "metadata": {
        "id": "6773695a"
      },
      "outputs": [],
      "source": [
        "def intsys(t,y):      # y = height (the state variable of the process)\n",
        "    \n",
        "    if y < 1:\n",
        "    \n",
        "        q = 0\n",
        "        \n",
        "    else:\n",
        "         q = 0.025*np.sqrt(y-1)   #in m3/min\n",
        "            \n",
        "    w_leak = rho*q                #in kg/min\n",
        "    \n",
        "    dy_dt = (1/(rho*A))*( MV_u1(t) + MV_u2(t) - w_leak - Cv*np.sqrt(y) )\n",
        "    \n",
        "    return dy_dt"
      ]
    },
    {
      "cell_type": "markdown",
      "id": "1170bb12",
      "metadata": {
        "id": "1170bb12"
      },
      "source": [
        "# Finding the steady state value of the state variable y (y_bar)"
      ]
    },
    {
      "cell_type": "code",
      "execution_count": null,
      "id": "28412776",
      "metadata": {
        "id": "28412776"
      },
      "outputs": [],
      "source": [
        "def ss(y0):\n",
        "    \n",
        "    return intsys(0,y0)"
      ]
    },
    {
      "cell_type": "markdown",
      "id": "6d19d85d",
      "metadata": {
        "id": "6d19d85d"
      },
      "source": [
        "## Initial guess of y_bar"
      ]
    },
    {
      "cell_type": "code",
      "execution_count": null,
      "id": "c9e23f97",
      "metadata": {
        "id": "c9e23f97"
      },
      "outputs": [],
      "source": [
        "y0 = np.array([1])   "
      ]
    },
    {
      "cell_type": "markdown",
      "id": "4c8b5262",
      "metadata": {
        "id": "4c8b5262"
      },
      "source": [
        "This needs to be reasonable since it has to be smaller that H = 2.5 m"
      ]
    },
    {
      "cell_type": "markdown",
      "id": "0bc566da",
      "metadata": {
        "id": "0bc566da"
      },
      "source": [
        "## Solving for y_bar"
      ]
    },
    {
      "cell_type": "code",
      "execution_count": null,
      "id": "5a56c483",
      "metadata": {
        "colab": {
          "base_uri": "https://localhost:8080/"
        },
        "id": "5a56c483",
        "outputId": "26dd798b-7e29-49db-d52d-3601fc0c62c2"
      },
      "outputs": [
        {
          "output_type": "stream",
          "name": "stdout",
          "text": [
            "The steady state value of the controlled variable is 1.132 m. This is a reasonable value for a tank that is 2.5 m tall.\n"
          ]
        }
      ],
      "source": [
        "y0 = fsolve(ss,y0)\n",
        "print(f'The steady state value of the controlled variable is {round(y0[0],3)} m. This is a reasonable value for a tank that is 2.5 m tall.') "
      ]
    },
    {
      "cell_type": "markdown",
      "id": "10d0c3ee",
      "metadata": {
        "id": "10d0c3ee"
      },
      "source": [
        "## Check if dydt = o at y_bar"
      ]
    },
    {
      "cell_type": "code",
      "execution_count": null,
      "id": "d3b1cd6a",
      "metadata": {
        "colab": {
          "base_uri": "https://localhost:8080/"
        },
        "id": "d3b1cd6a",
        "outputId": "ed2f8f32-980d-4ca6-d174-2d6457da5ac7"
      },
      "outputs": [
        {
          "output_type": "execute_result",
          "data": {
            "text/plain": [
              "2.2617277734851674e-17"
            ]
          },
          "metadata": {},
          "execution_count": 8
        }
      ],
      "source": [
        "intsys(0,y0[0])"
      ]
    },
    {
      "cell_type": "code",
      "execution_count": null,
      "id": "6f47f686",
      "metadata": {
        "id": "6f47f686"
      },
      "outputs": [],
      "source": [
        "tspan = np.linspace(0,300,500)     #minutes"
      ]
    },
    {
      "cell_type": "markdown",
      "id": "94f104d1",
      "metadata": {
        "id": "94f104d1"
      },
      "source": [
        "## Refining u1 as a step change instead of a rectangular pulse and fitting again"
      ]
    },
    {
      "cell_type": "code",
      "execution_count": null,
      "id": "84106b9b",
      "metadata": {
        "id": "84106b9b"
      },
      "outputs": [],
      "source": [
        "M_step = 10 \n",
        "\n",
        "def MV_u1(t):                # step change with M = 5\n",
        "    \n",
        "    if t < 0:\n",
        "        \n",
        "        return 120\n",
        "    \n",
        "    if t >= 0:\n",
        "        \n",
        "        return 120 + M_step"
      ]
    },
    {
      "cell_type": "markdown",
      "id": "dd6c016c",
      "metadata": {
        "id": "dd6c016c"
      },
      "source": [
        "The magnitude of the step change ,as with the rectangular input, is restricted by the final control element(the control valve). A step magnitude of 10 kg/min is about an 8% increase in w1 which seems resonable.\n"
      ]
    },
    {
      "cell_type": "markdown",
      "id": "e160c660",
      "metadata": {
        "id": "e160c660"
      },
      "source": [
        "## Euler integration to find y as a function of time and the plotting of the response curve with the input step change"
      ]
    },
    {
      "cell_type": "code",
      "execution_count": null,
      "id": "b790cdbf",
      "metadata": {
        "id": "b790cdbf"
      },
      "outputs": [],
      "source": [
        "tspan = np.linspace(0,150,1000)\n",
        "    \n",
        "y_ol = y0[0]             #y open loop\n",
        "dt = tspan[1] - tspan[0]\n",
        "y_ol_list = []\n",
        "\n",
        "\n",
        "for count, time in enumerate(tspan):   #Euler integration\n",
        "    \n",
        "    y_ol_list.append(y_ol)\n",
        "    derivative = intsys(time,y_ol)\n",
        "    y_ol += derivative*dt"
      ]
    },
    {
      "cell_type": "code",
      "execution_count": null,
      "id": "052d19af",
      "metadata": {
        "colab": {
          "base_uri": "https://localhost:8080/",
          "height": 513
        },
        "id": "052d19af",
        "outputId": "09833987-7cba-4c18-ebe7-2f214e58080f"
      },
      "outputs": [
        {
          "output_type": "display_data",
          "data": {
            "text/plain": [
              "<Figure size 504x504 with 2 Axes>"
            ],
            "image/png": "[encoded data removed]"
          },
          "metadata": {
            "needs_background": "light"
          }
        }
      ],
      "source": [
        "fig,[ax1,ax2] = plt.subplots(2,1,figsize = (7,7))\n",
        "\n",
        "ax1.plot(tspan,y_ol_list - y0[0])  #deviation variables\n",
        "ax1.set_ylabel('Height (m)')\n",
        "ax1.set_xlabel('Time (min)')\n",
        "\n",
        "input_ = np.array([MV_u1(ti) for ti in tspan])   # calculating the array of w1 to graph!!\n",
        "\n",
        "ax2.plot(tspan,input_ - 120)\n",
        "ax2.set_xlabel('Time (min)')\n",
        "ax2.set_ylabel('MV_u$_{1}$')\n",
        "\n",
        "plt.tight_layout()\n",
        "\n",
        "plt.show()"
      ]
    },
    {
      "cell_type": "markdown",
      "id": "d435b72f",
      "metadata": {
        "id": "d435b72f"
      },
      "source": [
        "## FOPDT Fitting of the step change response"
      ]
    },
    {
      "cell_type": "code",
      "execution_count": null,
      "id": "f2e2bda7",
      "metadata": {
        "id": "f2e2bda7"
      },
      "outputs": [],
      "source": [
        "def FOPDT_step(t,K,tau,theta): \n",
        "    \n",
        "    y_array = []\n",
        "\n",
        "    \n",
        "    for t in t:\n",
        "    \n",
        "        if t < theta :\n",
        "        \n",
        "            y_array.append(0)\n",
        "     \n",
        "    \n",
        "        if t >= theta:\n",
        "        \n",
        "            y_array.append( K*M_step*(1 - np.e**(-(t-theta)/tau ) ))\n",
        "        \n",
        "    return y_array   "
      ]
    },
    {
      "cell_type": "code",
      "execution_count": null,
      "id": "1ce42236",
      "metadata": {
        "id": "1ce42236"
      },
      "outputs": [],
      "source": [
        "response_step = FOPDT_step(tspan,0.008,20,0)  #values guessed from openloop response curve"
      ]
    },
    {
      "cell_type": "code",
      "execution_count": null,
      "id": "40fac70b",
      "metadata": {
        "colab": {
          "base_uri": "https://localhost:8080/",
          "height": 296
        },
        "id": "40fac70b",
        "outputId": "0ca710bc-df87-4506-e3c9-89c69f117cb1"
      },
      "outputs": [
        {
          "output_type": "execute_result",
          "data": {
            "text/plain": [
              "<matplotlib.legend.Legend at 0x7f9b1ecf1890>"
            ]
          },
          "metadata": {},
          "execution_count": 15
        },
        {
          "output_type": "display_data",
          "data": {
            "text/plain": [
              "<Figure size 432x288 with 1 Axes>"
            ],
            "image/png": "[encoded data removed]"
          },
          "metadata": {
            "needs_background": "light"
          }
        }
      ],
      "source": [
        "plt.plot(tspan,response_step, label = 'Model')          #in deviation variables\n",
        "plt.plot(tspan,y_ol_list -  y0[0] , label = 'Actual')         \n",
        "plt.xlabel('Time (min)')\n",
        "plt.ylabel('Height (m)')\n",
        "plt.legend( loc = 'best')"
      ]
    },
    {
      "cell_type": "markdown",
      "id": "cdd6600b",
      "metadata": {
        "id": "cdd6600b"
      },
      "source": [
        "## Optimisng the FOPDT parameters with curve fitting and plotting the resulting model with the actual response"
      ]
    },
    {
      "cell_type": "code",
      "execution_count": null,
      "id": "61a73fdf",
      "metadata": {
        "id": "61a73fdf"
      },
      "outputs": [],
      "source": [
        "p0 = [0.008,20,0]\n",
        "params2 = curve_fit(FOPDT_step,tspan, y_ol_list -  y0[0] ,p0 , bounds = (0,100) ) #optimize the parameters "
      ]
    },
    {
      "cell_type": "code",
      "execution_count": null,
      "id": "9e8ea589",
      "metadata": {
        "id": "9e8ea589"
      },
      "outputs": [],
      "source": [
        "params_step = params2[0]"
      ]
    },
    {
      "cell_type": "code",
      "execution_count": null,
      "id": "96f8a2d8",
      "metadata": {
        "id": "96f8a2d8",
        "outputId": "486879e4-416d-4809-df58-419c7bed768c",
        "colab": {
          "base_uri": "https://localhost:8080/"
        }
      },
      "outputs": [
        {
          "output_type": "execute_result",
          "data": {
            "text/plain": [
              "array([8.58169984e-03, 2.18399165e+01, 8.48544206e-19])"
            ]
          },
          "metadata": {},
          "execution_count": 18
        }
      ],
      "source": [
        "params_step"
      ]
    },
    {
      "cell_type": "markdown",
      "id": "582418ff",
      "metadata": {
        "id": "582418ff"
      },
      "source": [
        "The curve fit solver has a bound so ensure that tau and theta are positive values. Since M is positive, K will be positive as well."
      ]
    },
    {
      "cell_type": "code",
      "execution_count": null,
      "id": "a5876f67",
      "metadata": {
        "colab": {
          "base_uri": "https://localhost:8080/",
          "height": 279
        },
        "id": "a5876f67",
        "outputId": "88c468a8-f0e4-4e83-ab38-f5ebb8c1e5d8"
      },
      "outputs": [
        {
          "output_type": "display_data",
          "data": {
            "text/plain": [
              "<Figure size 432x288 with 1 Axes>"
            ],
            "image/png": "[encoded data removed]"
          },
          "metadata": {
            "needs_background": "light"
          }
        }
      ],
      "source": [
        "plt.plot(tspan, y_ol_list -  y0[0], label = 'Actual')\n",
        "plt.plot(tspan,FOPDT_step(tspan,*params_step) , label = 'Model') #plot the results \n",
        "\n",
        "plt.xlabel('Time (min)')\n",
        "plt.ylabel('Height (m)')\n",
        "plt.legend( loc = 'best')\n",
        "plt.show()"
      ]
    },
    {
      "cell_type": "code",
      "execution_count": null,
      "id": "f8a0b127",
      "metadata": {
        "colab": {
          "base_uri": "https://localhost:8080/"
        },
        "id": "f8a0b127",
        "outputId": "c549f43a-20b3-4d81-91ee-bca86c8ca440"
      },
      "outputs": [
        {
          "output_type": "stream",
          "name": "stdout",
          "text": [
            "K = 0.0086\n",
            "tau = 21.8399 min\n",
            "theta = 0.0 min\n"
          ]
        }
      ],
      "source": [
        "K_step, tau_step , theta_step = params_step\n",
        "\n",
        "print(f'K = {round(K_step,4)}')\n",
        "print(f'tau = {round(tau_step,4)} min')\n",
        "print(f'theta = {round(theta_step,4)} min')"
      ]
    },
    {
      "cell_type": "markdown",
      "id": "2f240d6e",
      "metadata": {
        "id": "2f240d6e"
      },
      "source": [
        "Using a step change in u1, it is evident that the process does not have a time delay. The solved theta is miniscule."
      ]
    },
    {
      "cell_type": "markdown",
      "id": "43de8009",
      "metadata": {
        "id": "43de8009"
      },
      "source": [
        "# Controller tuning and test with an appropriate step change in the setpoint"
      ]
    },
    {
      "cell_type": "markdown",
      "id": "09c7ae14",
      "metadata": {
        "id": "09c7ae14"
      },
      "source": [
        "Controlled variable : y (height)\n",
        "\n",
        "Manipulated variable : u1 (w1)"
      ]
    },
    {
      "cell_type": "markdown",
      "id": "71f1021a",
      "metadata": {
        "id": "71f1021a"
      },
      "source": [
        "A possible change in the setpoint could be for the height to be higher to increase productivity of the whole plant."
      ]
    },
    {
      "cell_type": "code",
      "execution_count": null,
      "id": "df7d0431",
      "metadata": {
        "colab": {
          "base_uri": "https://localhost:8080/"
        },
        "id": "df7d0431",
        "outputId": "baca2912-bb43-4100-d623-e910d222a0eb"
      },
      "outputs": [
        {
          "output_type": "stream",
          "name": "stdout",
          "text": [
            " Magnitude of setpoint step change = 0.3685 m\n"
          ]
        }
      ],
      "source": [
        "y_new_sp = 1.5 #m           Arbitrarily chosen\n",
        "M_sp = y_new_sp - y0[0]   #step change magnitude\n",
        "print(f' Magnitude of setpoint step change = {round(M_sp,4)} m')"
      ]
    },
    {
      "cell_type": "markdown",
      "id": "8c1d15b1",
      "metadata": {
        "id": "8c1d15b1"
      },
      "source": [
        "To implement a control system, a feedback loop has to be set up with the following components:\n",
        "\n",
        "* the process\n",
        "* a sensor and transmitter of the height (controlled variable)\n",
        "* a controller that takes the error of the height setpoint and height measurement.\n",
        "* a conversion of the setpoint into a current signal before the error is calculated\n",
        "* a pressure/current transducer that converts the current signal from the controller to a pressure input for the control valve\n",
        "* a valve(final controller element) that manipulates w1 (manipulated variable)\n",
        "* the distubance (w2)"
      ]
    },
    {
      "cell_type": "markdown",
      "id": "59915dec",
      "metadata": {
        "id": "59915dec"
      },
      "source": [
        "It is assumed for now that only the process, disturbance and controller have dynamics and that all other elements in the control loop have negligible dynamics and all have gains of 1.\n",
        "\n",
        "Therefore $$ G = G_pG_{IP}G_vG_m = \\frac{K_p e^{-\\theta s}}{\\tau_p s + 1} $$"
      ]
    },
    {
      "cell_type": "code",
      "execution_count": null,
      "id": "00a5d6de",
      "metadata": {
        "id": "00a5d6de"
      },
      "outputs": [],
      "source": [
        "Kp = float(K_step)         # m/kg/min\n",
        "tau_p = float(tau_step)    #minutes\n",
        "theta = 0  #minutes"
      ]
    },
    {
      "cell_type": "markdown",
      "id": "0d26fb42",
      "metadata": {
        "id": "0d26fb42"
      },
      "source": [
        "To find the preliminary controller parameters, the SIMC tuning relations will be used."
      ]
    },
    {
      "cell_type": "code",
      "execution_count": null,
      "id": "c0562015",
      "metadata": {
        "id": "c0562015"
      },
      "outputs": [],
      "source": [
        "from scipy import signal"
      ]
    },
    {
      "cell_type": "markdown",
      "id": "33bb9f3c",
      "metadata": {
        "id": "33bb9f3c"
      },
      "source": [
        "## 1. PID controller"
      ]
    },
    {
      "cell_type": "markdown",
      "id": "3cb2807e",
      "metadata": {
        "id": "3cb2807e"
      },
      "source": [
        "## Preliminary design"
      ]
    },
    {
      "cell_type": "markdown",
      "id": "0bed4d63",
      "metadata": {
        "id": "0bed4d63"
      },
      "source": [
        "An ideal PID controller is\n",
        "$$ G_c = K_c \\left(1 + \\frac{1}{\\tau_Is} + \\tau_Ds \\right) $$ \n",
        "\n",
        "This is physically unrealistic due to the positive zero from the derivative control.\n",
        "\n",
        "A physically realistic controler transfer funtion is\n",
        "$$ G_c = K_c \\left(1 + \\frac{1}{\\tau_Is} + \\frac{\\tau_Ds}{\\alpha\\tau_Ds +1} \\right) $$ \n",
        "\n",
        "which can be rewritten as\n",
        "$$ G_c = \\frac{K_c(\\alpha\\tau_I\\tau_D + \\tau_I\\tau_D)s^2 + K_c(\\tau_I + \\alpha\\tau_D)s + K_c}{\\alpha\\tau_I\\tau_D s^2 + \\tau_Is} $$ \n",
        "\n",
        "with $\\alpha$ being a constant used for this derivative mode filter.\n"
      ]
    },
    {
      "cell_type": "code",
      "execution_count": null,
      "id": "6f5bad7c",
      "metadata": {
        "id": "6f5bad7c"
      },
      "outputs": [],
      "source": [
        "alpha = 0.1              #typical value"
      ]
    },
    {
      "cell_type": "markdown",
      "id": "46c7d6d6",
      "metadata": {
        "id": "46c7d6d6"
      },
      "source": [
        "## a) Controller parameter calculation"
      ]
    },
    {
      "cell_type": "code",
      "execution_count": null,
      "id": "004a073d",
      "metadata": {
        "colab": {
          "base_uri": "https://localhost:8080/"
        },
        "id": "004a073d",
        "outputId": "d45d2db6-2e47-47a3-c212-454d8b6b9dbf"
      },
      "outputs": [
        {
          "output_type": "stream",
          "name": "stdout",
          "text": [
            " Kc = 5089.881236017252\n",
            " tau_I = 2.0\n",
            " tau_D = 3\n"
          ]
        }
      ],
      "source": [
        "tau_c = 0.5\n",
        "\n",
        "Kc_prelim = 1/Kp * (tau_p/tau_c)\n",
        "tau_I_prelim = min(tau_p , 4*(tau_c))        \n",
        "tau_D_prelim = 3                            #guessed\n",
        "\n",
        "print(f' Kc = {Kc_prelim}')\n",
        "print(f' tau_I = {tau_I_prelim}')\n",
        "print(f' tau_D = {tau_D_prelim}')"
      ]
    },
    {
      "cell_type": "markdown",
      "id": "d6b71940",
      "metadata": {
        "id": "d6b71940"
      },
      "source": [
        "## d) Defining a simulation time span and step time"
      ]
    },
    {
      "cell_type": "code",
      "source": [
        "dt_max = 0.01*tau_p\n",
        "dt_max*3600  #seconds"
      ],
      "metadata": {
        "colab": {
          "base_uri": "https://localhost:8080/"
        },
        "id": "-BnffhX_ItA3",
        "outputId": "f257e4e3-b126-4557-b1df-685ec718d7df"
      },
      "id": "-BnffhX_ItA3",
      "execution_count": null,
      "outputs": [
        {
          "output_type": "execute_result",
          "data": {
            "text/plain": [
              "786.2369941935312"
            ]
          },
          "metadata": {},
          "execution_count": 26
        }
      ]
    },
    {
      "cell_type": "code",
      "source": [
        "dt_max2 = 0.1*tau_I_prelim\n",
        "dt_max2*3600 #seconds"
      ],
      "metadata": {
        "colab": {
          "base_uri": "https://localhost:8080/"
        },
        "id": "uLvmBJGYK0_j",
        "outputId": "ad349db6-3d72-41b0-9c67-1a5862f3fbcf"
      },
      "id": "uLvmBJGYK0_j",
      "execution_count": null,
      "outputs": [
        {
          "output_type": "execute_result",
          "data": {
            "text/plain": [
              "720.0"
            ]
          },
          "metadata": {},
          "execution_count": 27
        }
      ]
    },
    {
      "cell_type": "code",
      "execution_count": null,
      "id": "ef170ce4",
      "metadata": {
        "id": "ef170ce4",
        "outputId": "676fd3ac-2604-4dad-f59f-12d2c4d086d3",
        "colab": {
          "base_uri": "https://localhost:8080/"
        }
      },
      "outputs": [
        {
          "output_type": "execute_result",
          "data": {
            "text/plain": [
              "14.4007200360018"
            ]
          },
          "metadata": {},
          "execution_count": 28
        }
      ],
      "source": [
        "Tspan = np.linspace(0,80,20000)  # time span for the simulation [min]\n",
        "\n",
        "dt = Tspan[1] - Tspan[0] \n",
        "dt*3600                            # minutes -smaller than both dt_max"
      ]
    },
    {
      "cell_type": "markdown",
      "id": "773e0aa1",
      "metadata": {
        "id": "773e0aa1"
      },
      "source": [
        "## b) Calculating the array of the setpoint change"
      ]
    },
    {
      "cell_type": "code",
      "execution_count": null,
      "id": "e1277312",
      "metadata": {
        "id": "e1277312"
      },
      "outputs": [],
      "source": [
        "def Y_sp(t):              \n",
        "    \n",
        "    if t < 0:\n",
        "        \n",
        "        return  y0[0]    #initial steady state y value\n",
        "    \n",
        "    if t >= 0:\n",
        "        \n",
        "        return float(y_new_sp)\n",
        "\n",
        "\n",
        "Ysp_array = [Y_sp(ti) for ti in Tspan]   "
      ]
    },
    {
      "cell_type": "markdown",
      "id": "7ef0db59",
      "metadata": {
        "id": "7ef0db59"
      },
      "source": [
        "## c) Redefining the system equations to include an additional input"
      ]
    },
    {
      "cell_type": "markdown",
      "id": "7b017bfd",
      "metadata": {
        "id": "7b017bfd"
      },
      "source": [
        "The other controller input y_m is calculated using the process equations seen below"
      ]
    },
    {
      "cell_type": "code",
      "execution_count": null,
      "id": "a88367cd",
      "metadata": {
        "id": "a88367cd"
      },
      "outputs": [],
      "source": [
        "def intsys_control(t,y,MV):  #adding an extra input \n",
        "    \n",
        "    if y < 1:\n",
        "    \n",
        "        q = 0\n",
        "        \n",
        "    else:\n",
        "         q = 0.025*np.sqrt(y-1)   \n",
        "            \n",
        "    w_leak = rho*q                \n",
        "    \n",
        "    dy_dt = (1/(rho*A))*( MV + MV_u2(t) - w_leak - Cv*np.sqrt(y) )\n",
        "    \n",
        "    return dy_dt"
      ]
    },
    {
      "cell_type": "markdown",
      "id": "f85ced48",
      "metadata": {
        "id": "f85ced48"
      },
      "source": [
        "## e) Defining the function that calculated the measured y values with the controller parameters as inputs"
      ]
    },
    {
      "cell_type": "code",
      "execution_count": null,
      "id": "04b5dfbe",
      "metadata": {
        "id": "04b5dfbe"
      },
      "outputs": [],
      "source": [
        "def PID_sim(Kc,tau_I,tau_D):\n",
        "    \n",
        "    def PID_LTI(Kc,tau_I,tau_D):                   #Creating the state space controller function -> A, B, C, D matrices\n",
        "    \n",
        "        Gc_num_s2 = Kc*(tau_I*tau_D )*(alpha + 1) #coefficients of s^2 in the controller numerator\n",
        "        Gc_num_s1 = Kc*(tau_I + alpha*tau_D)       #coefficients of s^1 in the controller numerator\n",
        "        Gc_num_s0 = Kc                             #coefficients of s^0 in the controller numerator\n",
        "\n",
        "        Gc_deno_s2 = alpha*tau_I*tau_D             #coefficients of s^2 in the controller denominator\n",
        "        Gc_deno_s1 = tau_I                         #coefficients of s^1 in the controller denominator\n",
        "        Gc_deno_s0 = 0                             #coefficients of s^0 in the controller denominator\n",
        "    \n",
        "        Gc_PID = signal.lti([Gc_num_s2,Gc_num_s1,Gc_num_s0],[Gc_deno_s2,Gc_deno_s1,Gc_deno_s0]).to_ss() #defining the PID controller\n",
        "        return Gc_PID\n",
        "\n",
        "    \n",
        "    \n",
        "    def PID_controller(ysp , ym):                   #2 inputs of controller = setpoint y and the previous measured y value in mA\n",
        "    \n",
        "        e = ysp - ym                                #error\n",
        "    \n",
        "        Gc_PID = PID_LTI(Kc,tau_I,tau_D)\n",
        "    \n",
        "        dpcdt = Gc_PID.A.dot(pc) + Gc_PID.B.dot(e)  \n",
        "    \n",
        "        yc = Gc_PID.C.dot(pc) + Gc_PID.D.dot(e)\n",
        "    \n",
        "        p = p0 + yc[0,0]                            #the total signal p out of the controller with the bias\n",
        "    \n",
        "        return p, dpcdt\n",
        "    \n",
        "    \n",
        "    y_PID = []        \n",
        "    \n",
        "    y_m = y0[0]                                      #the initial measured h would be the previous setpoint\n",
        "    p0 = 120                                         #kg/min \n",
        "    \n",
        "    Gc_PID = PID_LTI(Kc,tau_I,tau_D)\n",
        "    pc = np.zeros([Gc_PID.A.shape[0],1]) \n",
        "    \n",
        "    for t in Tspan:\n",
        "    \n",
        "        y_PID.append(y_m)\n",
        "    \n",
        "        y_sp = Y_sp(t)                               #setpoint change\n",
        "    \n",
        "        p_out = PID_controller(y_sp, y_m)[0]         #p_out = input of process = w1\n",
        "    \n",
        "        derivative = intsys_control(t, y_m , p_out)\n",
        "    \n",
        "        y_m += derivative*dt\n",
        "    \n",
        "        pc += PID_controller(y_sp, y_m)[1]*dt\n",
        "        \n",
        "    return y_PID                                      #final array of measured y values"
      ]
    },
    {
      "cell_type": "markdown",
      "id": "dd332453",
      "metadata": {
        "id": "dd332453"
      },
      "source": [
        "## f) Simulation and plotting of the measured y values with PID control"
      ]
    },
    {
      "cell_type": "code",
      "execution_count": null,
      "id": "9a10504b",
      "metadata": {
        "id": "9a10504b"
      },
      "outputs": [],
      "source": [
        "PID_prelim = PID_sim(Kc_prelim,tau_I_prelim,tau_D_prelim)"
      ]
    },
    {
      "cell_type": "code",
      "execution_count": null,
      "id": "cad805a0",
      "metadata": {
        "colab": {
          "base_uri": "https://localhost:8080/",
          "height": 282
        },
        "id": "cad805a0",
        "outputId": "c8140673-7ff4-44d7-e065-c37b3600234d"
      },
      "outputs": [
        {
          "output_type": "display_data",
          "data": {
            "text/plain": [
              "<Figure size 432x288 with 1 Axes>"
            ],
            "image/png": "[encoded data removed]"
          },
          "metadata": {
            "needs_background": "light"
          }
        }
      ],
      "source": [
        "plt.plot(Tspan , PID_prelim - y0[0]  , label = 'Measured y')    # in deviation variables\n",
        "plt.plot(Tspan , Ysp_array - y0[0]  , label = 'Setpoint y')\n",
        "plt.xlabel('Time [min]')\n",
        "plt.ylabel('Height [m]')\n",
        "plt.legend(loc = 'best')\n",
        "plt.show()"
      ]
    },
    {
      "cell_type": "markdown",
      "id": "8c3868ab",
      "metadata": {
        "id": "8c3868ab"
      },
      "source": [
        "The controlled response is adequate but the preliminary controller parameter can be fine tuned for a better performing controller."
      ]
    },
    {
      "cell_type": "markdown",
      "id": "723d6074",
      "metadata": {
        "id": "723d6074"
      },
      "source": [
        "## Revised design"
      ]
    },
    {
      "cell_type": "markdown",
      "id": "c11ba70d",
      "metadata": {
        "id": "c11ba70d"
      },
      "source": [
        "For the above PID controller, by setting $\\tau_D$ equal to zero give a stable PI controlled loop. Thus $\\tau_D$ was guess by trial and error to get a stable response.\n",
        "\n",
        "The Kc was also reduced for a more robust controller."
      ]
    },
    {
      "cell_type": "code",
      "execution_count": null,
      "id": "f27acdbf",
      "metadata": {
        "id": "f27acdbf"
      },
      "outputs": [],
      "source": [
        "tau_D_new = 3"
      ]
    },
    {
      "cell_type": "code",
      "execution_count": null,
      "id": "5f60c560",
      "metadata": {
        "id": "5f60c560"
      },
      "outputs": [],
      "source": [
        "PID_new = PID_sim(0.1*Kc_prelim,tau_I_prelim,tau_D_new)"
      ]
    },
    {
      "cell_type": "code",
      "execution_count": null,
      "id": "e831d854",
      "metadata": {
        "colab": {
          "base_uri": "https://localhost:8080/",
          "height": 279
        },
        "id": "e831d854",
        "outputId": "f027e2f5-24d6-49d9-bf04-0b515a8451cd"
      },
      "outputs": [
        {
          "output_type": "display_data",
          "data": {
            "text/plain": [
              "<Figure size 432x288 with 1 Axes>"
            ],
            "image/png": "[encoded data removed]"
          },
          "metadata": {
            "needs_background": "light"
          }
        }
      ],
      "source": [
        "plt.plot(Tspan , PID_new - y0[0]  , label = 'Measured y')      # in deviation variables\n",
        "plt.plot(Tspan , Ysp_array - y0[0]  , label = 'Setpoint y')\n",
        "plt.xlabel('Time [min]')\n",
        "plt.ylabel('Height [m]')\n",
        "plt.legend(loc = 'best')\n",
        "plt.show()"
      ]
    },
    {
      "cell_type": "markdown",
      "id": "e568ef3c",
      "metadata": {
        "id": "e568ef3c"
      },
      "source": [
        "The settling time of around 60 minutes could be improved by increase Kc.\n",
        "\n",
        "The initial derivative kick is not too high for an overflow. This derivative does not need to be reduced for these parameters"
      ]
    },
    {
      "cell_type": "markdown",
      "id": "e80752cf",
      "metadata": {
        "id": "e80752cf"
      },
      "source": [
        "## 2. P, PI and PD controller"
      ]
    },
    {
      "cell_type": "markdown",
      "id": "c5720b43",
      "metadata": {
        "id": "c5720b43"
      },
      "source": [
        "The previous PID function can be used but with $\\tau_I$ and $\\tau_D$ set very large and very small respecively for a P controller. For the PI controller, just the $\\tau_D$ is set very small and for a PD controller, $\\tau_I$ set very large."
      ]
    },
    {
      "cell_type": "code",
      "execution_count": null,
      "id": "9bb7b754",
      "metadata": {
        "id": "9bb7b754",
        "outputId": "402d320c-81a9-42ea-aa66-789eb5739cfc",
        "colab": {
          "base_uri": "https://localhost:8080/",
          "height": 314
        }
      },
      "outputs": [
        {
          "output_type": "stream",
          "name": "stderr",
          "text": [
            "/usr/local/lib/python3.7/dist-packages/scipy/signal/filter_design.py:1622: BadCoefficients: Badly conditioned filter coefficients (numerator): the results may be meaningless\n",
            "  \"results may be meaningless\", BadCoefficients)\n"
          ]
        },
        {
          "output_type": "display_data",
          "data": {
            "text/plain": [
              "<Figure size 432x288 with 1 Axes>"
            ],
            "image/png": "[encoded data removed]"
          },
          "metadata": {
            "needs_background": "light"
          }
        }
      ],
      "source": [
        "P_new = PID_sim(0.1*Kc_prelim,10000,0)\n",
        "PI_new = PID_sim(0.1*Kc_prelim,tau_I_prelim,0)\n",
        "PD_new = PID_sim(0.1*Kc_prelim,10000,tau_D_new)\n",
        "\n",
        "plt.plot(Tspan , P_new - y0[0]  , label = 'P') \n",
        "plt.plot(Tspan , PI_new - y0[0]  , label = 'PI')\n",
        "plt.plot(Tspan , PD_new - y0[0]  , label = 'PD')\n",
        "plt.plot(Tspan , PID_new - y0[0]  , label = 'PID')\n",
        "\n",
        "plt.plot(Tspan , Ysp_array - y0[0]  , label = 'Setpoint y')\n",
        "plt.xlabel('Time [min]')\n",
        "plt.ylabel('Height [m]')\n",
        "plt.legend(loc = 'best')\n",
        "plt.show()"
      ]
    },
    {
      "cell_type": "markdown",
      "id": "9e573b23",
      "metadata": {
        "id": "9e573b23"
      },
      "source": [
        "It can be seen that the P and PD controllers do not reach the desired set point hence they cannot be used for this project. PI controller reaches the set point but has large overshoot and longer settling time. The PID controller is the best controller for this projeft due to its reasonable overshoot and shorter settling time."
      ]
    },
    {
      "cell_type": "markdown",
      "id": "fd1a02a9",
      "metadata": {
        "id": "fd1a02a9"
      },
      "source": [
        "# Part 2"
      ]
    },
    {
      "cell_type": "markdown",
      "source": [
        "## Final parameters from part 1"
      ],
      "metadata": {
        "id": "JPnAJthZ2tAx"
      },
      "id": "JPnAJthZ2tAx"
    },
    {
      "cell_type": "code",
      "execution_count": null,
      "id": "fa40797e",
      "metadata": {
        "colab": {
          "base_uri": "https://localhost:8080/"
        },
        "id": "fa40797e",
        "outputId": "d38fc1a3-78d3-4593-d4ec-e848b1a46903"
      },
      "outputs": [
        {
          "output_type": "stream",
          "name": "stdout",
          "text": [
            " Kc = 508.98812360172525\n",
            " tau_I = 2.0\n",
            " tau_D = 3\n"
          ]
        }
      ],
      "source": [
        "Kc = 0.1*Kc_prelim\n",
        "tau_I = tau_I_prelim\n",
        "tau_D = tau_D_new\n",
        "\n",
        "print(f' Kc = {Kc}')\n",
        "print(f' tau_I = {tau_I}')\n",
        "print(f' tau_D = {tau_D}')"
      ]
    },
    {
      "cell_type": "markdown",
      "source": [
        "## Time linspace, delta T and sampling time\n",
        "\n",
        "The same time linspace and delta T used for the continuous controller will be used since the process differential equations are still calculated contiously.\n",
        "\n",
        "The discrete controller outputs calculated using the positon or velocity form will be calculated using the newly defined sampling period instead. According to Seborg et al. (2017), this sampling period should be between 1% and 5% of the process time constant.\n",
        "\n"
      ],
      "metadata": {
        "id": "yLkSihgp3bvt"
      },
      "id": "yLkSihgp3bvt"
    },
    {
      "cell_type": "code",
      "execution_count": null,
      "id": "aa9d79be",
      "metadata": {
        "id": "aa9d79be",
        "outputId": "50ffbe2b-0827-4023-9983-969bd7d69300",
        "colab": {
          "base_uri": "https://localhost:8080/"
        }
      },
      "outputs": [
        {
          "output_type": "execute_result",
          "data": {
            "text/plain": [
              "0.655197495161276"
            ]
          },
          "metadata": {},
          "execution_count": 39
        }
      ],
      "source": [
        "t_sample_average = 0.03*tau_p   #minutes\n",
        "t_sample_average"
      ]
    },
    {
      "cell_type": "code",
      "source": [
        "t_sample = dt*164\n",
        "t_sample  #using a multiple of dt to ensure ease of coding"
      ],
      "metadata": {
        "colab": {
          "base_uri": "https://localhost:8080/"
        },
        "id": "MkHptC-UiSTo",
        "outputId": "d85fff47-0153-4cc1-b8d8-fd3ecdb75b68"
      },
      "id": "MkHptC-UiSTo",
      "execution_count": null,
      "outputs": [
        {
          "output_type": "execute_result",
          "data": {
            "text/plain": [
              "0.656032801640082"
            ]
          },
          "metadata": {},
          "execution_count": 40
        }
      ]
    },
    {
      "cell_type": "markdown",
      "id": "da57a7f4",
      "metadata": {
        "id": "da57a7f4"
      },
      "source": [
        "# Position form:"
      ]
    },
    {
      "cell_type": "code",
      "execution_count": null,
      "id": "9e816a97",
      "metadata": {
        "id": "9e816a97"
      },
      "outputs": [],
      "source": [
        "def PID_position(Kc,tau_I,tau_D): #to determine response of system once while guessing Kc, taui, taud\n",
        "      \n",
        "    \n",
        "    y_PID = []        \n",
        "    y_m = y0[0]                                      #the initial measured h would be the previous setpoint\n",
        "    \n",
        "    p0 = 120                                         #kg/min - controller bias value = steady state value of the manipulated variable\n",
        "\n",
        "    eks = [0]\n",
        "    ysp_lst = []\n",
        "    \n",
        "    MV_lst = [p0]\n",
        "    \n",
        "    \n",
        "    for t in Tspan:\n",
        "\n",
        "        y_PID.append(y_m)\n",
        "\n",
        "        y_sp = Y_sp(t)            #setpoint change\n",
        "        ysp_lst.append(y_sp)\n",
        "\n",
        "        if t % t_sample != 0 :                       #Zero order hold of the controller output between sampling times \n",
        "            pk = MV_lst[-1]\n",
        "            MV_lst.append(pk)\n",
        "\n",
        "        else:\n",
        "           \n",
        "            ek = y_sp - y_m\n",
        "            eks.append(ek)\n",
        "        \n",
        "            ekmin1 = eks[-2]\n",
        "\n",
        "            pk = p0 + Kc * (ek + t_sample*sum(eks)/tau_I + tau_D*(ek - ekmin1)/t_sample)    #controller output calculation\n",
        "\n",
        "            if pk <= 0:                                                  #saturation limits for the controller output\n",
        "                pk = 0\n",
        "                MV_lst.append(pk)\n",
        "\n",
        "            if pk >= 240:      #assuming steady state is 50% valve opening\n",
        "                pk = 240\n",
        "                MV_lst.append(pk)\n",
        "\n",
        "        \n",
        "        derivative = intsys_control(t, y_m, pk)     #continuous process calculation\n",
        "        y_m += derivative*dt\n",
        "        \n",
        "    return y_PID, MV_lst"
      ]
    },
    {
      "cell_type": "markdown",
      "id": "203c9120",
      "metadata": {
        "id": "203c9120"
      },
      "source": [
        "## 1) PID Controller"
      ]
    },
    {
      "cell_type": "code",
      "execution_count": null,
      "id": "304304c8",
      "metadata": {
        "id": "304304c8"
      },
      "outputs": [],
      "source": [
        "Y_pos , MV_pos = PID_position(Kc,tau_I,tau_D)"
      ]
    },
    {
      "cell_type": "code",
      "source": [
        "len(MV_pos)"
      ],
      "metadata": {
        "colab": {
          "base_uri": "https://localhost:8080/"
        },
        "id": "M5FLoFxLUSzu",
        "outputId": "8d6925fd-5809-4829-e5f3-124de603b8ea"
      },
      "id": "M5FLoFxLUSzu",
      "execution_count": null,
      "outputs": [
        {
          "output_type": "execute_result",
          "data": {
            "text/plain": [
              "19992"
            ]
          },
          "metadata": {},
          "execution_count": 43
        }
      ]
    },
    {
      "cell_type": "code",
      "source": [
        "plt.plot(Tspan,MV_pos[1:])  \n",
        "plt.xlabel('Time (min)')\n",
        "plt.ylabel('Flowrate (kg/min)')\n",
        "plt.title(\"PID controller output in position form\")\n",
        "plt.show()"
      ],
      "metadata": {
        "colab": {
          "base_uri": "https://localhost:8080/",
          "height": 633
        },
        "id": "T7zmOmQnPt9A",
        "outputId": "bd590c98-8eb8-449c-dd8b-06c511bd2ca0"
      },
      "id": "T7zmOmQnPt9A",
      "execution_count": null,
      "outputs": [
        {
          "output_type": "error",
          "ename": "ValueError",
          "evalue": "ignored",
          "traceback": [
            "\u001b[0;31m---------------------------------------------------------------------------\u001b[0m",
            "\u001b[0;31mValueError\u001b[0m                                Traceback (most recent call last)",
            "\u001b[0;32m<ipython-input-51-5e02265106e4>\u001b[0m in \u001b[0;36m<module>\u001b[0;34m()\u001b[0m\n\u001b[0;32m----> 1\u001b[0;31m \u001b[0mplt\u001b[0m\u001b[0;34m.\u001b[0m\u001b[0mplot\u001b[0m\u001b[0;34m(\u001b[0m\u001b[0mTspan\u001b[0m\u001b[0;34m,\u001b[0m\u001b[0mMV_pos\u001b[0m\u001b[0;34m[\u001b[0m\u001b[0;36m1\u001b[0m\u001b[0;34m:\u001b[0m\u001b[0;34m]\u001b[0m\u001b[0;34m)\u001b[0m\u001b[0;34m\u001b[0m\u001b[0;34m\u001b[0m\u001b[0m\n\u001b[0m\u001b[1;32m      2\u001b[0m \u001b[0mplt\u001b[0m\u001b[0;34m.\u001b[0m\u001b[0mxlabel\u001b[0m\u001b[0;34m(\u001b[0m\u001b[0;34m'Time (min)'\u001b[0m\u001b[0;34m)\u001b[0m\u001b[0;34m\u001b[0m\u001b[0;34m\u001b[0m\u001b[0m\n\u001b[1;32m      3\u001b[0m \u001b[0mplt\u001b[0m\u001b[0;34m.\u001b[0m\u001b[0mylabel\u001b[0m\u001b[0;34m(\u001b[0m\u001b[0;34m'Flowrate (kg/min)'\u001b[0m\u001b[0;34m)\u001b[0m\u001b[0;34m\u001b[0m\u001b[0;34m\u001b[0m\u001b[0m\n\u001b[1;32m      4\u001b[0m \u001b[0mplt\u001b[0m\u001b[0;34m.\u001b[0m\u001b[0mtitle\u001b[0m\u001b[0;34m(\u001b[0m\u001b[0;34m\"PID controller output in position form\"\u001b[0m\u001b[0;34m)\u001b[0m\u001b[0;34m\u001b[0m\u001b[0;34m\u001b[0m\u001b[0m\n\u001b[1;32m      5\u001b[0m \u001b[0mplt\u001b[0m\u001b[0;34m.\u001b[0m\u001b[0mshow\u001b[0m\u001b[0;34m(\u001b[0m\u001b[0;34m)\u001b[0m\u001b[0;34m\u001b[0m\u001b[0;34m\u001b[0m\u001b[0m\n",
            "\u001b[0;32m/usr/local/lib/python3.7/dist-packages/matplotlib/pyplot.py\u001b[0m in \u001b[0;36mplot\u001b[0;34m(scalex, scaley, data, *args, **kwargs)\u001b[0m\n\u001b[1;32m   2761\u001b[0m     return gca().plot(\n\u001b[1;32m   2762\u001b[0m         *args, scalex=scalex, scaley=scaley, **({\"data\": data} if data\n\u001b[0;32m-> 2763\u001b[0;31m         is not None else {}), **kwargs)\n\u001b[0m\u001b[1;32m   2764\u001b[0m \u001b[0;34m\u001b[0m\u001b[0m\n\u001b[1;32m   2765\u001b[0m \u001b[0;34m\u001b[0m\u001b[0m\n",
            "\u001b[0;32m/usr/local/lib/python3.7/dist-packages/matplotlib/axes/_axes.py\u001b[0m in \u001b[0;36mplot\u001b[0;34m(self, scalex, scaley, data, *args, **kwargs)\u001b[0m\n\u001b[1;32m   1645\u001b[0m         \"\"\"\n\u001b[1;32m   1646\u001b[0m         \u001b[0mkwargs\u001b[0m \u001b[0;34m=\u001b[0m \u001b[0mcbook\u001b[0m\u001b[0;34m.\u001b[0m\u001b[0mnormalize_kwargs\u001b[0m\u001b[0;34m(\u001b[0m\u001b[0mkwargs\u001b[0m\u001b[0;34m,\u001b[0m \u001b[0mmlines\u001b[0m\u001b[0;34m.\u001b[0m\u001b[0mLine2D\u001b[0m\u001b[0;34m)\u001b[0m\u001b[0;34m\u001b[0m\u001b[0;34m\u001b[0m\u001b[0m\n\u001b[0;32m-> 1647\u001b[0;31m         \u001b[0mlines\u001b[0m \u001b[0;34m=\u001b[0m \u001b[0;34m[\u001b[0m\u001b[0;34m*\u001b[0m\u001b[0mself\u001b[0m\u001b[0;34m.\u001b[0m\u001b[0m_get_lines\u001b[0m\u001b[0;34m(\u001b[0m\u001b[0;34m*\u001b[0m\u001b[0margs\u001b[0m\u001b[0;34m,\u001b[0m \u001b[0mdata\u001b[0m\u001b[0;34m=\u001b[0m\u001b[0mdata\u001b[0m\u001b[0;34m,\u001b[0m \u001b[0;34m**\u001b[0m\u001b[0mkwargs\u001b[0m\u001b[0;34m)\u001b[0m\u001b[0;34m]\u001b[0m\u001b[0;34m\u001b[0m\u001b[0;34m\u001b[0m\u001b[0m\n\u001b[0m\u001b[1;32m   1648\u001b[0m         \u001b[0;32mfor\u001b[0m \u001b[0mline\u001b[0m \u001b[0;32min\u001b[0m \u001b[0mlines\u001b[0m\u001b[0;34m:\u001b[0m\u001b[0;34m\u001b[0m\u001b[0;34m\u001b[0m\u001b[0m\n\u001b[1;32m   1649\u001b[0m             \u001b[0mself\u001b[0m\u001b[0;34m.\u001b[0m\u001b[0madd_line\u001b[0m\u001b[0;34m(\u001b[0m\u001b[0mline\u001b[0m\u001b[0;34m)\u001b[0m\u001b[0;34m\u001b[0m\u001b[0;34m\u001b[0m\u001b[0m\n",
            "\u001b[0;32m/usr/local/lib/python3.7/dist-packages/matplotlib/axes/_base.py\u001b[0m in \u001b[0;36m__call__\u001b[0;34m(self, *args, **kwargs)\u001b[0m\n\u001b[1;32m    214\u001b[0m                 \u001b[0mthis\u001b[0m \u001b[0;34m+=\u001b[0m \u001b[0margs\u001b[0m\u001b[0;34m[\u001b[0m\u001b[0;36m0\u001b[0m\u001b[0;34m]\u001b[0m\u001b[0;34m,\u001b[0m\u001b[0;34m\u001b[0m\u001b[0;34m\u001b[0m\u001b[0m\n\u001b[1;32m    215\u001b[0m                 \u001b[0margs\u001b[0m \u001b[0;34m=\u001b[0m \u001b[0margs\u001b[0m\u001b[0;34m[\u001b[0m\u001b[0;36m1\u001b[0m\u001b[0;34m:\u001b[0m\u001b[0;34m]\u001b[0m\u001b[0;34m\u001b[0m\u001b[0;34m\u001b[0m\u001b[0m\n\u001b[0;32m--> 216\u001b[0;31m             \u001b[0;32myield\u001b[0m \u001b[0;32mfrom\u001b[0m \u001b[0mself\u001b[0m\u001b[0;34m.\u001b[0m\u001b[0m_plot_args\u001b[0m\u001b[0;34m(\u001b[0m\u001b[0mthis\u001b[0m\u001b[0;34m,\u001b[0m \u001b[0mkwargs\u001b[0m\u001b[0;34m)\u001b[0m\u001b[0;34m\u001b[0m\u001b[0;34m\u001b[0m\u001b[0m\n\u001b[0m\u001b[1;32m    217\u001b[0m \u001b[0;34m\u001b[0m\u001b[0m\n\u001b[1;32m    218\u001b[0m     \u001b[0;32mdef\u001b[0m \u001b[0mget_next_color\u001b[0m\u001b[0;34m(\u001b[0m\u001b[0mself\u001b[0m\u001b[0;34m)\u001b[0m\u001b[0;34m:\u001b[0m\u001b[0;34m\u001b[0m\u001b[0;34m\u001b[0m\u001b[0m\n",
            "\u001b[0;32m/usr/local/lib/python3.7/dist-packages/matplotlib/axes/_base.py\u001b[0m in \u001b[0;36m_plot_args\u001b[0;34m(self, tup, kwargs)\u001b[0m\n\u001b[1;32m    340\u001b[0m \u001b[0;34m\u001b[0m\u001b[0m\n\u001b[1;32m    341\u001b[0m         \u001b[0;32mif\u001b[0m \u001b[0mx\u001b[0m\u001b[0;34m.\u001b[0m\u001b[0mshape\u001b[0m\u001b[0;34m[\u001b[0m\u001b[0;36m0\u001b[0m\u001b[0;34m]\u001b[0m \u001b[0;34m!=\u001b[0m \u001b[0my\u001b[0m\u001b[0;34m.\u001b[0m\u001b[0mshape\u001b[0m\u001b[0;34m[\u001b[0m\u001b[0;36m0\u001b[0m\u001b[0;34m]\u001b[0m\u001b[0;34m:\u001b[0m\u001b[0;34m\u001b[0m\u001b[0;34m\u001b[0m\u001b[0m\n\u001b[0;32m--> 342\u001b[0;31m             raise ValueError(f\"x and y must have same first dimension, but \"\n\u001b[0m\u001b[1;32m    343\u001b[0m                              f\"have shapes {x.shape} and {y.shape}\")\n\u001b[1;32m    344\u001b[0m         \u001b[0;32mif\u001b[0m \u001b[0mx\u001b[0m\u001b[0;34m.\u001b[0m\u001b[0mndim\u001b[0m \u001b[0;34m>\u001b[0m \u001b[0;36m2\u001b[0m \u001b[0;32mor\u001b[0m \u001b[0my\u001b[0m\u001b[0;34m.\u001b[0m\u001b[0mndim\u001b[0m \u001b[0;34m>\u001b[0m \u001b[0;36m2\u001b[0m\u001b[0;34m:\u001b[0m\u001b[0;34m\u001b[0m\u001b[0;34m\u001b[0m\u001b[0m\n",
            "\u001b[0;31mValueError\u001b[0m: x and y must have same first dimension, but have shapes (20000,) and (19991,)"
          ]
        },
        {
          "output_type": "display_data",
          "data": {
            "text/plain": [
              "<Figure size 432x288 with 1 Axes>"
            ],
            "image/png": "[encoded data removed]"
          },
          "metadata": {
            "needs_background": "light"
          }
        }
      ]
    },
    {
      "cell_type": "code",
      "execution_count": null,
      "id": "32568eb6",
      "metadata": {
        "id": "32568eb6"
      },
      "outputs": [],
      "source": [
        "plt.plot(Tspan,Y_pos - y0[0], label = 'Measured y (Discrete)')  \n",
        "plt.plot(Tspan, Ysp_array - y0[0], label = 'Setpoint y')\n",
        "plt.xlabel('Time (min)')\n",
        "plt.ylabel('Height (m)')\n",
        "plt.legend(loc = 'best')\n",
        "plt.title(\"PID controller in position form\")\n",
        "plt.show()"
      ]
    },
    {
      "cell_type": "markdown",
      "id": "6714bac8",
      "metadata": {
        "id": "6714bac8"
      },
      "source": [
        "For the parameters (Kc, $\\tau_I$ and $\\tau_D$) determined in part 1, the discrete PID controller in velocity form initially produces a noisy response. The response later improves and the discrete controller output gives reasonable overshoot although with a long settling time. \n",
        "\n",
        "This is due to the longer sampling time which results in some information loss with discrete control and some noisy controller outputs. The smoothing out of control could be due to the fact that this process is not fast acting ( $\\tau_p$ is around 21 minutes) so the sampled measurements do not differ much between sampling periods."
      ]
    },
    {
      "cell_type": "markdown",
      "id": "deff86d0",
      "metadata": {
        "id": "deff86d0"
      },
      "source": [
        "## 2. P, PI and PD controller and comparison with the PID controller"
      ]
    },
    {
      "cell_type": "code",
      "execution_count": null,
      "id": "ff1da8d9",
      "metadata": {
        "id": "ff1da8d9"
      },
      "outputs": [],
      "source": [
        "P_pos = PID_position(Kc,100000000,0)[0]\n",
        "PI_pos = PID_position(Kc,tau_I,0)[0]\n",
        "PD_pos = PID_position(Kc,100000000,tau_D)[0]\n",
        "\n",
        "plt.plot(tspan , P_pos - y0[0]  , label = 'P') \n",
        "plt.plot(tspan , PI_pos - y0[0]  , label = 'PI')\n",
        "plt.plot(tspan , PD_pos - y0[0]  , label = 'PD')\n",
        "plt.plot(tspan , PID_pos - y0[0]  , label = 'PID')\n",
        "\n",
        "plt.plot(tspan , Ysp_array - y0[0]  , label = 'Setpoint y')\n",
        "plt.xlabel('Time [min]')\n",
        "plt.ylabel('Height [m]')\n",
        "plt.legend(loc = 'best')\n",
        "plt.show()"
      ]
    },
    {
      "cell_type": "markdown",
      "id": "78fa5673",
      "metadata": {
        "id": "78fa5673"
      },
      "source": [
        "The position form discrete controllers (except the PI and P controller) exhibit similar behaviour i.e. initially noisy response which later improves. The PI controller however has a larger overshoot and seemingly shorter settling time than the others. A PI controller would be the preferred position form discrete controller for the assigned system. \n",
        "\n",
        "The controllers with derivative action would be faster which explains the initial noisy control variable."
      ]
    },
    {
      "cell_type": "markdown",
      "id": "fbf7bdca",
      "metadata": {
        "id": "fbf7bdca"
      },
      "source": [
        "## 3. Comparison of the discrete and continous PID controller"
      ]
    },
    {
      "cell_type": "code",
      "execution_count": null,
      "id": "e547cea8",
      "metadata": {
        "id": "e547cea8"
      },
      "outputs": [],
      "source": [
        "plt.plot(tspan , PID_pos - y0[0]  , label = 'PID Discrete')\n",
        "plt.plot(Tspan, PID_new - y0[0], label = 'PID Continuous') \n",
        "    \n",
        "plt.plot(tspan, Ysp_array - y0[0], label = 'Setpoint y')\n",
        "plt.xlabel('Time (min)')\n",
        "plt.ylabel('Height (m)')\n",
        "plt.title(\"Discrete and continous PID controller\")\n",
        "plt.legend(loc = 'best')\n",
        "plt.show()"
      ]
    },
    {
      "cell_type": "markdown",
      "id": "480f6121",
      "metadata": {
        "id": "480f6121"
      },
      "source": [
        "The continuous and discrete controllers perform similarly except for the initial noise from the discrete controller.\n",
        "\n",
        "A continuous controller could be preferred to protect the control value from frequent motion. The discrete controller could be used if the cost benefits are large enough since the control between the two is similar."
      ]
    },
    {
      "cell_type": "markdown",
      "id": "eea14bd7",
      "metadata": {
        "id": "eea14bd7"
      },
      "source": [
        "# Velocity form:"
      ]
    },
    {
      "cell_type": "code",
      "execution_count": null,
      "id": "1790a79d",
      "metadata": {
        "id": "1790a79d"
      },
      "outputs": [],
      "source": [
        "def PID_velocity(Kc,tau_I,tau_D): \n",
        "      \n",
        "    y_PID = []        \n",
        "    y_m = y0[0]                                      \n",
        "    \n",
        "    p0 = 120                                        #kg/min \n",
        "    MV_lst = []\n",
        "\n",
        "    eks = [0,0]\n",
        "    ysp_lst = []\n",
        "    \n",
        "    for t in Tspan:\n",
        "\n",
        "        y_PID.append(y_m)\n",
        "\n",
        "        MV_lst.append(p0)\n",
        "    \n",
        "        y_sp = Y_sp(t)     #setpoint change\n",
        "        ysp_lst.append(y_sp)\n",
        "\n",
        "        if t % t_sample != 0:                       #Zero order hold of the controller output between sampling times \n",
        "            p0 = MV_lst[-1]\n",
        "\n",
        "        else:\n",
        "        \n",
        "            ek = y_sp - y_m\n",
        "            eks.append(ek)\n",
        "        \n",
        "            ekmin1 = eks[-2]\n",
        "            ekmin2 = eks[-3]\n",
        "      \n",
        "            deltapk = Kc * (ek - ekmin1 + t_sample*ek/tau_I + tau_D/t_sample * (ek - 2*ekmin1 + ekmin2))\n",
        "            p0 += deltapk \n",
        "        \n",
        "        derivative = intsys_control(t, y_m, p0)\n",
        "        \n",
        "        y_m += derivative*dt\n",
        "        \n",
        "    return y_PID, MV_lst                                    #final array of measured y values"
      ]
    },
    {
      "cell_type": "markdown",
      "id": "479be07a",
      "metadata": {
        "id": "479be07a"
      },
      "source": [
        "## 1. PID Controller"
      ]
    },
    {
      "cell_type": "code",
      "execution_count": null,
      "id": "29652655",
      "metadata": {
        "id": "29652655"
      },
      "outputs": [],
      "source": [
        "PID_vel, MV_vel = PID_velocity(Kc,tau_I,tau_D)"
      ]
    },
    {
      "cell_type": "code",
      "source": [
        "plt.plot(Tspan[0:500],MV_vel[0:500], 'r*')  \n",
        "plt.xlabel('Time (min)')\n",
        "plt.ylabel('Flowrate (kg/min)')\n",
        "plt.title(\"PID controller output in velocity form\")\n",
        "plt.show()"
      ],
      "metadata": {
        "id": "Clho12F5afVf"
      },
      "id": "Clho12F5afVf",
      "execution_count": null,
      "outputs": []
    },
    {
      "cell_type": "code",
      "execution_count": null,
      "id": "05c94007",
      "metadata": {
        "id": "05c94007"
      },
      "outputs": [],
      "source": [
        "plt.plot(Tspan,PID_vel - y0[0], label = 'Measured y (Discrete)')  \n",
        "plt.plot(Tspan, Ysp_array - y0[0], label = 'Setpoint y')\n",
        "plt.xlabel('Time (min)')\n",
        "plt.ylabel('Height (m)')\n",
        "plt.title(\"PID controller in velocity form\")\n",
        "plt.show()"
      ]
    },
    {
      "cell_type": "markdown",
      "id": "30888de3",
      "metadata": {
        "id": "30888de3"
      },
      "source": [
        "Similar to the position form, the response is initially noisy but improves with time. Again, the settling time is large at around 50 minutes. This could be improved with a higher $K_c$ or $\\tau_D$ value but would result in more oscillatory behavior."
      ]
    },
    {
      "cell_type": "markdown",
      "id": "26d71278",
      "metadata": {
        "id": "26d71278"
      },
      "source": [
        "## 2. P, PI and PD controller and comparison with the PID controller"
      ]
    },
    {
      "cell_type": "code",
      "execution_count": null,
      "id": "fa2ead37",
      "metadata": {
        "id": "fa2ead37"
      },
      "outputs": [],
      "source": [
        "P_vel = PID_velocity(Kc,100000000,0)\n",
        "PI_vel = PID_velocity(Kc,tau_I,0)\n",
        "PD_vel = PID_velocity(Kc,100000000,tau_D)\n",
        "\n",
        "plt.plot(tspan , P_vel - y0[0]  , label = 'P') \n",
        "plt.plot(tspan , PI_vel - y0[0]  , label = 'PI')\n",
        "plt.plot(tspan , PD_vel - y0[0]  , label = 'PD')\n",
        "plt.plot(tspan , PID_vel - y0[0]  , label = 'PID')\n",
        "\n",
        "plt.plot(tspan , Ysp_array - y0[0]  , label = 'Setpoint y')\n",
        "plt.xlabel('Time [min]')\n",
        "plt.ylabel('Height [m]')\n",
        "plt.legend(loc = 'best')\n",
        "plt.show()"
      ]
    },
    {
      "cell_type": "markdown",
      "id": "4e9b5e5c",
      "metadata": {
        "id": "4e9b5e5c"
      },
      "source": [
        "## 3. Comparison of the discrete and continous PID controller"
      ]
    },
    {
      "cell_type": "code",
      "execution_count": null,
      "id": "dac4f47b",
      "metadata": {
        "id": "dac4f47b"
      },
      "outputs": [],
      "source": [
        "plt.plot(tspan , PID_vel - y0[0]  , label = 'PID Discrete')\n",
        "plt.plot(Tspan, PID_new - y0[0], label = 'PID Continuous') \n",
        "    \n",
        "plt.plot(tspan, Ysp_array - y0[0], label = 'Setpoint y')\n",
        "plt.xlabel('Time (min)')\n",
        "plt.ylabel('Height (m)')\n",
        "plt.title(\"Discrete and continous PID controller\")\n",
        "plt.legend(loc = 'best')\n",
        "plt.show()"
      ]
    },
    {
      "cell_type": "markdown",
      "id": "f342c30b",
      "metadata": {
        "id": "f342c30b"
      },
      "source": [
        "## 4. Comparison of the position and velocity PID controllers"
      ]
    },
    {
      "cell_type": "code",
      "execution_count": null,
      "id": "df768d89",
      "metadata": {
        "id": "df768d89"
      },
      "outputs": [],
      "source": [
        "PID_vel_new = PID_velocity(Kc,tau_I,tau_D)\n",
        "PID_pos_new = PID_position(Kc,tau_I,tau_D)[0]\n",
        "\n",
        "\n",
        "plt.plot(tspan , PID_vel_new - y0[0]  , label = 'PID Velocity form')\n",
        "plt.plot(tspan , PID_pos_new - y0[0]  , label = 'PID Position form')\n",
        "plt.plot(Tspan, PID_new - y0[0], label = 'PID Continuous') \n",
        "    \n",
        "plt.plot(tspan, Ysp_array - y0[0], label = 'Setpoint y')\n",
        "plt.xlabel('Time (min)')\n",
        "plt.ylabel('Height (m)')\n",
        "plt.title(\"Position and velocity form PID controller\")\n",
        "plt.legend(loc = 'best')\n",
        "plt.show()  "
      ]
    },
    {
      "cell_type": "markdown",
      "id": "1c33c358",
      "metadata": {
        "id": "1c33c358"
      },
      "source": [
        "The position form and velocity form discrete PID controllers are identical since the initial value of the manipulated variable is the same. The velocity form does have some flexibility in this initial control valve position since it just calculates the change for the controller output and thus also of the manipulated variable."
      ]
    },
    {
      "cell_type": "code",
      "source": [
        "tspan = np.linspace(0,80,122)\n",
        "dt_now = tspan[1] - tspan[0]\n",
        "dt_now"
      ],
      "metadata": {
        "id": "IB86c5YyqX65"
      },
      "id": "IB86c5YyqX65",
      "execution_count": null,
      "outputs": []
    },
    {
      "cell_type": "code",
      "source": [
        "bspan = np.linspace(0,10,11)\n",
        "bt = bspan[1] - bspan[0]\n",
        "b_sample = 2*bt\n",
        "b_sample"
      ],
      "metadata": {
        "id": "iJ8hkSddfSpi",
        "colab": {
          "base_uri": "https://localhost:8080/"
        },
        "outputId": "55176388-bbc5-44c1-cdbd-4477ef551d35"
      },
      "id": "iJ8hkSddfSpi",
      "execution_count": null,
      "outputs": [
        {
          "output_type": "execute_result",
          "data": {
            "text/plain": [
              "2.0"
            ]
          },
          "metadata": {},
          "execution_count": 24
        }
      ]
    },
    {
      "cell_type": "code",
      "source": [
        "F = 9\n",
        "test = []\n",
        "\n",
        "for count,T in enumerate(bspan):\n",
        "  \n",
        "  if count+1 % 2 != 0: \n",
        "    test.append(F)\n",
        "    F = test[-1]\n",
        "    \n",
        "\n",
        "  else:\n",
        "    F = 12\n",
        "    test.append(F)"
      ],
      "metadata": {
        "id": "CkxtwuCuCzGY"
      },
      "id": "CkxtwuCuCzGY",
      "execution_count": null,
      "outputs": []
    },
    {
      "cell_type": "code",
      "source": [
        "plt.plot(bspan , test)\n",
        "plt.show()"
      ],
      "metadata": {
        "id": "KrGCKsMugDhm",
        "colab": {
          "base_uri": "https://localhost:8080/",
          "height": 265
        },
        "outputId": "7fb2f790-8afb-4752-a07f-e094db2ed643"
      },
      "id": "KrGCKsMugDhm",
      "execution_count": null,
      "outputs": [
        {
          "output_type": "display_data",
          "data": {
            "text/plain": [
              "<Figure size 432x288 with 1 Axes>"
            ],
            "image/png": "[encoded data removed]"
          },
          "metadata": {
            "needs_background": "light"
          }
        }
      ]
    },
    {
      "cell_type": "code",
      "source": [
        ""
      ],
      "metadata": {
        "id": "fuAyA8Mquohr"
      },
      "id": "fuAyA8Mquohr",
      "execution_count": null,
      "outputs": []
    }
  ],
  "metadata": {
    "colab": {
      "collapsed_sections": [],
      "name": "Group 9_CPB410_Simulation_Project_Part2.ipynb",
      "provenance": [],
      "include_colab_link": true
    },
    "kernelspec": {
      "display_name": "Python 3 (ipykernel)",
      "language": "python",
      "name": "python3"
    },
    "language_info": {
      "codemirror_mode": {
        "name": "ipython",
        "version": 3
      },
      "file_extension": ".py",
      "mimetype": "text/x-python",
      "name": "python",
      "nbconvert_exporter": "python",
      "pygments_lexer": "ipython3",
      "version": "3.7.4"
    }
  },
  "nbformat": 4,
  "nbformat_minor": 5
}