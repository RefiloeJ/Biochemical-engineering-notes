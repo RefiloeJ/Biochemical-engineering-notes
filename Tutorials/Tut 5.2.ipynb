{
 "cells": [
  {
   "cell_type": "markdown",
   "metadata": {},
   "source": [
    "### Tutorial 5.2\n",
    "\n",
    "\n",
    "We will continue with the _A.succinogenes_ example of [tut 4](https://nbviewer.jupyter.org/github/willienicol/Biochemical-engineering-notes/blob/master/Tutorials/Tut%204.ipynb). \n",
    "\n",
    "<img src=\"succmap_num.png\" width=\"550\" />\n",
    "\n",
    "The fluxes are numbered in the figure above and the first seven equations of the model is supplied in hidden format in [Tut8eq.xlsx](https://github.com/willienicol/Biochemical-engineering-notes/blob/master/Tutorials/Tut8eq.xlsx). Equation 7 represents the energy balance. All equations are equal to zero except the energy balance that is equal to $\\theta$. All rates correspond to the flux numbers on the map.\n",
    "\n",
    "You can use your own model or the supplied model. Assume the absence of pyruvate formate lyase (PFL). \n",
    "\n",
    "The physiological parameters can be taken as:\n",
    "\n",
    "|$\\alpha \\qquad \\qquad$|$\\gamma \\qquad \\qquad $|$\\mu \\qquad$|$\\theta\\qquad$|\n",
    "|-|-|-|-|\n",
    "|$\\frac{\\text{cmol $CO_2$}}{\\text{cmol X}}$|$\\frac{\\text{mol ATP}}{\\text{cmol X}}$|$\\frac{1}{\\text{h}}$|$\\frac{\\text{mol ATP}}{\\text{cmol X}\\cdot \\text{h}}$|\n",
    "|0.12|1.8|0.15|0.1|\n",
    "\n",
    "|   $\\frac{\\text{cmol $CO_2$}}{\\text{cmol X}}$|   |   |   |   |\n",
    "|---|---|---|---|---|\n",
    "|  $\\alpha \\qquad \\qquad$ |   |   |   |   |\n",
    "|   |   |   |   |   |\n",
    "|   |   |   |   |   |\n",
    "\n",
    "The biomass formula is given by $CH_{1.9}O_{0.45}N_{0.23}$\n",
    "\n",
    "It is easy to transfer the $7 \\times 9$ matrix into Python and add specification equations. You can use the code below. Ensure that the Excel file is in the same directory as the Jupyter notebook file.\n"
   ]
  },
  {
   "cell_type": "code",
   "execution_count": 60,
   "metadata": {},
   "outputs": [],
   "source": [
    "import pandas, numpy\n",
    "S = numpy.matrix(pandas.read_excel('Tut8eq.xlsx'))\n",
    "S1 = numpy.vstack([S,[0,1,0,0,0,0,0,0,0],[0,0,0,0,0,0,1,0,0]]) # Adding mu and zero PFL spec."
   ]
  },
  {
   "cell_type": "markdown",
   "metadata": {},
   "source": [
    "a) Given an initial glucose concentration of 100 $\\frac{\\text{g}}{\\text{L}}$ and biomass concentration of 0.001 $\\frac{\\text{cmol X}}{\\text{L}}$, determine the time required to convert all the glucose. [43.9h] "
   ]
  },
  {
   "cell_type": "markdown",
   "metadata": {},
   "source": [
    "b) Determine the yield of succinic acid on glucose in $\\frac{cmol}{cmol}$ by taking the amount of glucose converted and succininc acid formed throughout the whole run. How does this compare to the yields that the stoichiometric matrix predict and why? [0.722]"
   ]
  },
  {
   "cell_type": "markdown",
   "metadata": {},
   "source": [
    "c) Solve analytically for the biomass equation in the fermenter equation and plot against the answer obtained in (a). Integrate upto 45 hours. Why is it possible to solve for the biomass profile separately? At what point in time does the two profiles vary and why? "
   ]
  },
  {
   "cell_type": "markdown",
   "metadata": {},
   "source": [
    "d) Plot the rate of succinic acid production ($r_{SA}$) against time and comment."
   ]
  },
  {
   "cell_type": "markdown",
   "metadata": {},
   "source": [
    "e) Plot the volumetric rate of succininc acid production ($r^V_{SA}$) against time and comment.\n",
    "\n",
    "<img src=\"tut8e.png\" width=\"500\" />"
   ]
  },
  {
   "cell_type": "markdown",
   "metadata": {},
   "source": [
    "f) If the initial biomass concentration is changed to 0.0001 $\\frac{\\text{cmol X}}{\\text{L}}$, how long will it take to convert all the glucose? [58.4h] "
   ]
  },
  {
   "cell_type": "markdown",
   "metadata": {},
   "source": [
    "g) Change the glucose initial concentration to 60 $\\frac{\\text{g}}{\\text{L}}$ and determine how long it will take to convert all the glucose by using $C^O_X$ of (f)? [55.2h]  "
   ]
  },
  {
   "cell_type": "markdown",
   "metadata": {},
   "source": [
    "h) For the conditions in (g), what is the succininc acid concentration in $\\frac{cmol}{L}$ after 50 hours? [0.692]"
   ]
  },
  {
   "cell_type": "markdown",
   "metadata": {},
   "source": [
    "i) Assume that $\\theta=0$ and determine how long will it take to convert all the glucose by using the conditions of (g). Comment on your answer.[56.6h] "
   ]
  },
  {
   "cell_type": "markdown",
   "metadata": {},
   "source": [
    "j) Plot the succininc acid profiles of (g) and (i) on the same graph and comment.\n",
    "\n",
    "<img src=\"tut8j.png\" width=\"500\" />"
   ]
  },
  {
   "cell_type": "markdown",
   "metadata": {},
   "source": [
    "[Back to all tutorials](http://localhost:8888/notebooks/Dropbox/1_CBI%20310/2017/Tutorials/All%20tutorials.ipynb)"
   ]
  },
  {
   "cell_type": "code",
   "execution_count": null,
   "metadata": {
    "collapsed": true
   },
   "outputs": [],
   "source": []
  }
 ],
 "metadata": {
  "kernelspec": {
   "display_name": "Python 3",
   "language": "python",
   "name": "python3"
  },
  "language_info": {
   "codemirror_mode": {
    "name": "ipython",
    "version": 3
   },
   "file_extension": ".py",
   "mimetype": "text/x-python",
   "name": "python",
   "nbconvert_exporter": "python",
   "pygments_lexer": "ipython3",
   "version": "3.8.8"
  }
 },
 "nbformat": 4,
 "nbformat_minor": 1
}
