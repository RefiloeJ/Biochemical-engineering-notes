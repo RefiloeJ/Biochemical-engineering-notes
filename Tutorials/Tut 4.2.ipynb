{
 "cells": [
  {
   "cell_type": "markdown",
   "metadata": {},
   "source": [
    "## Tutorial 4.2 (2021)\n",
    "\n",
    "The **aerobic** 1,3 propanediol (PDO) example discussed in [Tut 3.3](https://nbviewer.jupyter.org/github/willienicol/Biochemical-engineering-notes/blob/master/Tutorials/Tut%203.ipynb) will be covered in more detail. Ignore all values given before.\n",
    "\n",
    "You are a bioprocess engineer working at a PDO factory. Your boss is a capitalist to the bone. He knows how to get the maximum out of people and micro-organisms. He keeps on asking that he wants an online measurement of the rate at which each bug excretes PDO. He says: \"It is all about measuring productivity in real time\".\n",
    "\n",
    "The overall reaction is given by:\n",
    "\n",
    "$$Gluc+O_2 \\to X+PDO+CO_2+H_2O$$\n",
    "\n"
   ]
  },
  {
   "cell_type": "markdown",
   "metadata": {},
   "source": [
    "You are able to measure the concentration of (dry) biomass in gram biomass per liter ($C_X$) with online spectrophotometry. You can also measure the online rate of oxygen uptake per liquid volume of fermenter ($r_O^v$). Given known $C_X$ you can determine the rate of oxygen uptake per gram of biomass. \n",
    "\n",
    "In addition you can use the change in biomass concentration measurement against time to predict the fractional increase in biomass as time progress ($\\mu$). This value can be measured online by using biomass measurements from a few minutes before. \n",
    "\n",
    "So in short you have an online measurement of $r_X$ and $r_O$. The normal operating point of your fermenter is at $r_X=0.15 \\frac{1}{h}$ and $r_O^v = 219 \\, \\frac{mmol}{L \\cdot h}$. You further know that $C_X=30 \\frac{g}{L}$. The biomass has a formula of $CH_{1.91}O_{0.48}N_{0.22}$\n",
    "\n"
   ]
  },
  {
   "cell_type": "markdown",
   "metadata": {},
   "source": [
    "a) Use a mass balance to predict the number your boss wants ($r_{PDO}$ in $\\frac{g \\, PDO}{g\\, X \\cdot h}$). Any issues?\n",
    "\n",
    "In desperation you visit the physiology department of the biorefinery. The people over there tell you that that can provide you with basic physiological properties of your modified _E.Coli_. The physiologists provide you with a limited cmol metabolic pathway map. \n",
    "\n",
    "<img src=\"pdomap.png\" width=\"450\" />"
   ]
  },
  {
   "cell_type": "markdown",
   "metadata": {},
   "source": [
    "They also tell you that when the organism grows it requires more or less 100 mmol ATP per gram of biomass produced. They also know that this strain generates anabolic $CO_2$ when it grows. So in addition to making $CO_2$ with respiration, it makes additional $CO_2$ when making biomass. To be exact it makes a mol of $CO_2$ for every 10 cmols of biomass formed. That tell you that the ATP for cell maintenance is very small, almost negligible compared to the ATP required for growth.\n",
    "\n",
    "b) Complete the unknown numbers on the metabolic map. Assume a $\\alpha$ value of 0.1 $ \\frac{mol \\, CO_2}{cmol\\, X }$ and a x value of $\\frac{1}{3}$ mol NADH. Also assume NADH = FADH = NADPH.\n",
    "\n",
    "c) Use the information from the physiologists to predict $r_{PDO}$. Assume that $\\gamma=2.5\\frac{mol \\, ATP}{cmolX}$   [2.61 $ \\frac{g \\, PDO}{g\\, X \\cdot h}$ ] and that the maintenance energy requirement is zero.\n",
    "\n",
    "d) Use the glucose consumption rate determined in (c) in the mass balance from (a) as an additional specification. Carefully compare the results from the mass balance to the results from the flux model (c). What do you see? What does this mean?\n",
    "\n",
    "\n"
   ]
  },
  {
   "cell_type": "markdown",
   "metadata": {},
   "source": [
    "\n",
    "e) Ignore the previous assumption that $\\theta=0$ and assume that cell maintenance requires 0.2 mmol of ATP per cmol of biomass. Recalculate $r_{PDO}$ for the conditions in (c). Why the difference? By how much did the PDO yield (cmol based) drop? By how much did the PDO production rate drop? [0.74 $ \\frac{cmol \\, PDO}{cmol X \\cdot h}$]\n",
    "\n"
   ]
  },
  {
   "cell_type": "code",
   "execution_count": null,
   "metadata": {
    "collapsed": true
   },
   "outputs": [],
   "source": []
  }
 ],
 "metadata": {
  "kernelspec": {
   "display_name": "Python 3",
   "language": "python",
   "name": "python3"
  },
  "language_info": {
   "codemirror_mode": {
    "name": "ipython",
    "version": 3
   },
   "file_extension": ".py",
   "mimetype": "text/x-python",
   "name": "python",
   "nbconvert_exporter": "python",
   "pygments_lexer": "ipython3",
   "version": "3.7.6"
  }
 },
 "nbformat": 4,
 "nbformat_minor": 2
}
